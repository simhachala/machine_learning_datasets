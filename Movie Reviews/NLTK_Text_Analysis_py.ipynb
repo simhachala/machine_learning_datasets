{
  "nbformat": 4,
  "nbformat_minor": 0,
  "metadata": {
    "kernelspec": {
      "display_name": "Python 3",
      "language": "python",
      "name": "python3"
    },
    "language_info": {
      "codemirror_mode": {
        "name": "ipython",
        "version": 3
      },
      "file_extension": ".py",
      "mimetype": "text/x-python",
      "name": "python",
      "nbconvert_exporter": "python",
      "pygments_lexer": "ipython3",
      "version": "3.7.6"
    },
    "colab": {
      "name": "Q1 Review the python script in Q1 Folder - NLTK_Text_Analysis.py.ipynb",
      "provenance": []
    }
  },
  "cells": [
    {
      "cell_type": "markdown",
      "metadata": {
        "id": "7SB9-wRGo61G",
        "colab_type": "text"
      },
      "source": [
        "#### Importing Required Libraries"
      ]
    },
    {
      "cell_type": "code",
      "metadata": {
        "id": "Z_RwjtJTo61H",
        "colab_type": "code",
        "colab": {
          "base_uri": "https://localhost:8080/",
          "height": 169
        },
        "outputId": "31764a18-8ce0-4d91-e613-fd00deef0626"
      },
      "source": [
        "import nltk\n",
        "nltk.download('punkt')\n",
        "nltk.download('stopwords')\n",
        "nltk.download('wordnet')\n",
        "nltk.download('averaged_perceptron_tagger')\n",
        "from nltk.tokenize import sent_tokenize"
      ],
      "execution_count": 1,
      "outputs": [
        {
          "output_type": "stream",
          "text": [
            "[nltk_data] Downloading package punkt to /root/nltk_data...\n",
            "[nltk_data]   Unzipping tokenizers/punkt.zip.\n",
            "[nltk_data] Downloading package stopwords to /root/nltk_data...\n",
            "[nltk_data]   Unzipping corpora/stopwords.zip.\n",
            "[nltk_data] Downloading package wordnet to /root/nltk_data...\n",
            "[nltk_data]   Unzipping corpora/wordnet.zip.\n",
            "[nltk_data] Downloading package averaged_perceptron_tagger to\n",
            "[nltk_data]     /root/nltk_data...\n",
            "[nltk_data]   Unzipping taggers/averaged_perceptron_tagger.zip.\n"
          ],
          "name": "stdout"
        }
      ]
    },
    {
      "cell_type": "markdown",
      "metadata": {
        "id": "iANCJ1yLo61K",
        "colab_type": "text"
      },
      "source": [
        "### Tokenization"
      ]
    },
    {
      "cell_type": "code",
      "metadata": {
        "id": "eHiMp-01o61L",
        "colab_type": "code",
        "colab": {
          "base_uri": "https://localhost:8080/",
          "height": 54
        },
        "outputId": "6fde81fa-1284-41c4-97f6-8de9ed45a01a"
      },
      "source": [
        "text=\"\"\"Backgammon is one of the oldest known board games. \n",
        "Its history can be traced back nearly 5,000 years to archeological discoveries in the Middle East. \n",
        "It is a two-player game where each player has fifteen checkers which move between twenty-four points \n",
        "according to the roll of two dice.\"\"\"\n",
        "tokenized_text=sent_tokenize(text)\n",
        "print(tokenized_text)"
      ],
      "execution_count": 2,
      "outputs": [
        {
          "output_type": "stream",
          "text": [
            "['Backgammon is one of the oldest known board games.', 'Its history can be traced back nearly 5,000 years to archeological discoveries in the Middle East.', 'It is a two-player game where each player has fifteen checkers which move between twenty-four points \\naccording to the roll of two dice.']\n"
          ],
          "name": "stdout"
        }
      ]
    },
    {
      "cell_type": "markdown",
      "metadata": {
        "id": "aOiq1ypYo61N",
        "colab_type": "text"
      },
      "source": [
        "### Word Tokenization"
      ]
    },
    {
      "cell_type": "code",
      "metadata": {
        "id": "VynZr8rTo61O",
        "colab_type": "code",
        "colab": {
          "base_uri": "https://localhost:8080/",
          "height": 54
        },
        "outputId": "ff1ca8cc-f979-4428-e3ab-0cffc7f8c7b2"
      },
      "source": [
        "from nltk.tokenize import word_tokenize\n",
        "tokenized_word=word_tokenize(text)\n",
        "print(tokenized_word)\n"
      ],
      "execution_count": 3,
      "outputs": [
        {
          "output_type": "stream",
          "text": [
            "['Backgammon', 'is', 'one', 'of', 'the', 'oldest', 'known', 'board', 'games', '.', 'Its', 'history', 'can', 'be', 'traced', 'back', 'nearly', '5,000', 'years', 'to', 'archeological', 'discoveries', 'in', 'the', 'Middle', 'East', '.', 'It', 'is', 'a', 'two-player', 'game', 'where', 'each', 'player', 'has', 'fifteen', 'checkers', 'which', 'move', 'between', 'twenty-four', 'points', 'according', 'to', 'the', 'roll', 'of', 'two', 'dice', '.']\n"
          ],
          "name": "stdout"
        }
      ]
    },
    {
      "cell_type": "code",
      "metadata": {
        "id": "_T0CtYBmo61Q",
        "colab_type": "code",
        "colab": {
          "base_uri": "https://localhost:8080/",
          "height": 34
        },
        "outputId": "27b32bf2-3e2a-4fd9-f963-eb7b61444893"
      },
      "source": [
        "from nltk.probability import FreqDist\n",
        "fdist = FreqDist(tokenized_word)\n",
        "print(fdist)\n"
      ],
      "execution_count": 4,
      "outputs": [
        {
          "output_type": "stream",
          "text": [
            "<FreqDist with 44 samples and 51 outcomes>\n"
          ],
          "name": "stdout"
        }
      ]
    },
    {
      "cell_type": "markdown",
      "metadata": {
        "id": "Fq5DxGzxo61S",
        "colab_type": "text"
      },
      "source": [
        "### Frequency Distribution Plot"
      ]
    },
    {
      "cell_type": "code",
      "metadata": {
        "id": "HGC2vAjJo61S",
        "colab_type": "code",
        "colab": {
          "base_uri": "https://localhost:8080/",
          "height": 338
        },
        "outputId": "b075487b-cb67-47a9-9bdf-86b9ce1d3c20"
      },
      "source": [
        "import matplotlib.pyplot as plt\n",
        "fdist.plot(30,cumulative=False)\n",
        "plt.show()"
      ],
      "execution_count": 5,
      "outputs": [
        {
          "output_type": "display_data",
          "data": {
            "image/png": "[encoded data removed]",
            "text/plain": [
              "<Figure size 432x288 with 1 Axes>"
            ]
          },
          "metadata": {
            "tags": [],
            "needs_background": "light"
          }
        }
      ]
    },
    {
      "cell_type": "code",
      "metadata": {
        "id": "P2HVuVPRo61V",
        "colab_type": "code",
        "colab": {
          "base_uri": "https://localhost:8080/",
          "height": 54
        },
        "outputId": "e6552ff5-d4e2-44e1-f684-dacdebb68e41"
      },
      "source": [
        "from nltk.corpus import stopwords\n",
        "stop_words=set(stopwords.words(\"english\"))\n",
        "print(stop_words)"
      ],
      "execution_count": 6,
      "outputs": [
        {
          "output_type": "stream",
          "text": [
            "{'its', 'a', 'each', 'not', 'which', 'during', 'to', 'further', 'more', 'their', 'weren', 'was', 'has', \"isn't\", 'm', 'yours', \"that'll\", \"it's\", 'by', 'than', 'of', 'our', 'having', 'how', 'nor', 'only', 'wouldn', 'after', 'what', 'ain', 'been', 'now', 'yourselves', 'we', 'as', \"mustn't\", 'it', 'both', 'there', 'above', 'out', 'mightn', 'no', 'until', \"shouldn't\", 'when', 'doing', 'ma', 'shouldn', 'won', 'below', 'against', 'who', 'does', \"haven't\", 'can', \"you've\", \"you'll\", 'because', \"didn't\", 'why', \"should've\", 'y', \"hadn't\", 'all', 'off', 'them', 'her', \"aren't\", 'any', 'don', 'here', 'with', 'at', 'before', 'll', 'be', 'these', \"couldn't\", 'didn', 'were', 'have', 'but', 'few', 'over', 'he', 'an', 'yourself', 'are', 'him', 'she', 'and', 'ours', 'on', 'doesn', 'this', 'those', 'themselves', 'again', 'once', 'mustn', 'himself', 'am', 'from', \"don't\", 'through', 'needn', 'too', 'being', 'for', 'me', \"wasn't\", 'so', 'very', 'into', 'is', \"she's\", \"mightn't\", \"doesn't\", 'will', 'whom', 'some', 's', 've', 'same', \"needn't\", 'myself', \"hasn't\", 'about', 't', 'up', \"shan't\", 'haven', 'such', 'wasn', \"you'd\", 'where', 'other', 'they', 'aren', 'under', 'most', 'ourselves', 'if', 'theirs', 'between', 'do', 'own', 'then', 'you', \"wouldn't\", 'or', 'in', 'isn', \"won't\", 'his', 'should', 'hers', 'your', 'had', 'my', 'o', 'did', 'itself', 'hasn', \"you're\", 're', 'the', 'i', 'just', \"weren't\", 'couldn', 'that', 'while', 'down', 'd', 'hadn', 'shan', 'herself'}\n"
          ],
          "name": "stdout"
        }
      ]
    },
    {
      "cell_type": "markdown",
      "metadata": {
        "id": "RVmGhNz2o61Y",
        "colab_type": "text"
      },
      "source": [
        "### Removing Stopwords"
      ]
    },
    {
      "cell_type": "code",
      "metadata": {
        "id": "iCxS1oiBo61Y",
        "colab_type": "code",
        "colab": {
          "base_uri": "https://localhost:8080/",
          "height": 71
        },
        "outputId": "7930b295-4c34-4db1-8e9b-21d6b520077d"
      },
      "source": [
        "tokenized_sent = tokenized_word\n",
        "filtered_sent=[]\n",
        "for w in tokenized_sent:\n",
        "    if w not in stop_words:\n",
        "        filtered_sent.append(w)\n",
        "print(\"Tokenized Sentence:\",tokenized_sent)\n",
        "print(\"Filterd Sentence:\",filtered_sent)"
      ],
      "execution_count": 7,
      "outputs": [
        {
          "output_type": "stream",
          "text": [
            "Tokenized Sentence: ['Backgammon', 'is', 'one', 'of', 'the', 'oldest', 'known', 'board', 'games', '.', 'Its', 'history', 'can', 'be', 'traced', 'back', 'nearly', '5,000', 'years', 'to', 'archeological', 'discoveries', 'in', 'the', 'Middle', 'East', '.', 'It', 'is', 'a', 'two-player', 'game', 'where', 'each', 'player', 'has', 'fifteen', 'checkers', 'which', 'move', 'between', 'twenty-four', 'points', 'according', 'to', 'the', 'roll', 'of', 'two', 'dice', '.']\n",
            "Filterd Sentence: ['Backgammon', 'one', 'oldest', 'known', 'board', 'games', '.', 'Its', 'history', 'traced', 'back', 'nearly', '5,000', 'years', 'archeological', 'discoveries', 'Middle', 'East', '.', 'It', 'two-player', 'game', 'player', 'fifteen', 'checkers', 'move', 'twenty-four', 'points', 'according', 'roll', 'two', 'dice', '.']\n"
          ],
          "name": "stdout"
        }
      ]
    },
    {
      "cell_type": "markdown",
      "metadata": {
        "id": "EW19PhuGo61a",
        "colab_type": "text"
      },
      "source": [
        "### Lexicon Normalization\n",
        "### Stemming"
      ]
    },
    {
      "cell_type": "code",
      "metadata": {
        "id": "b3h1gnhTo61b",
        "colab_type": "code",
        "colab": {
          "base_uri": "https://localhost:8080/",
          "height": 71
        },
        "outputId": "df8956f2-1290-400a-acf3-9c1451e3c468"
      },
      "source": [
        "from nltk.stem import PorterStemmer\n",
        "from nltk.tokenize import sent_tokenize, word_tokenize\n",
        "\n",
        "ps = PorterStemmer()\n",
        "\n",
        "stemmed_words=[]\n",
        "for w in filtered_sent:\n",
        "    stemmed_words.append(ps.stem(w))\n",
        "\n",
        "print(\"Filtered Sentence:\",filtered_sent)\n",
        "print(\"Stemmed Sentence:\",stemmed_words)"
      ],
      "execution_count": 8,
      "outputs": [
        {
          "output_type": "stream",
          "text": [
            "Filtered Sentence: ['Backgammon', 'one', 'oldest', 'known', 'board', 'games', '.', 'Its', 'history', 'traced', 'back', 'nearly', '5,000', 'years', 'archeological', 'discoveries', 'Middle', 'East', '.', 'It', 'two-player', 'game', 'player', 'fifteen', 'checkers', 'move', 'twenty-four', 'points', 'according', 'roll', 'two', 'dice', '.']\n",
            "Stemmed Sentence: ['backgammon', 'one', 'oldest', 'known', 'board', 'game', '.', 'it', 'histori', 'trace', 'back', 'nearli', '5,000', 'year', 'archeolog', 'discoveri', 'middl', 'east', '.', 'It', 'two-play', 'game', 'player', 'fifteen', 'checker', 'move', 'twenty-four', 'point', 'accord', 'roll', 'two', 'dice', '.']\n"
          ],
          "name": "stdout"
        }
      ]
    },
    {
      "cell_type": "markdown",
      "metadata": {
        "id": "eCrJouM0o61e",
        "colab_type": "text"
      },
      "source": [
        "### Lexicon Normalization\n",
        "### performing stemming and Lemmatization"
      ]
    },
    {
      "cell_type": "code",
      "metadata": {
        "id": "G0UkE4PCo61f",
        "colab_type": "code",
        "colab": {
          "base_uri": "https://localhost:8080/",
          "height": 51
        },
        "outputId": "4e0f56fa-1f8c-40e3-daf0-94fdeb18189c"
      },
      "source": [
        "from nltk.stem.wordnet import WordNetLemmatizer\n",
        "lem = WordNetLemmatizer()\n",
        "\n",
        "from nltk.stem.porter import PorterStemmer\n",
        "stem = PorterStemmer()\n",
        "\n",
        "word = \"flying\"\n",
        "print(\"Lemmatized Word:\",lem.lemmatize(word,\"v\"))\n",
        "print(\"Stemmed Word:\",stem.stem(word))"
      ],
      "execution_count": 9,
      "outputs": [
        {
          "output_type": "stream",
          "text": [
            "Lemmatized Word: fly\n",
            "Stemmed Word: fli\n"
          ],
          "name": "stdout"
        }
      ]
    },
    {
      "cell_type": "markdown",
      "metadata": {
        "id": "F6rxkvVgo61h",
        "colab_type": "text"
      },
      "source": [
        "### POS Tagging"
      ]
    },
    {
      "cell_type": "code",
      "metadata": {
        "id": "Y4spuoQCo61h",
        "colab_type": "code",
        "colab": {
          "base_uri": "https://localhost:8080/",
          "height": 220
        },
        "outputId": "95268606-70ea-4e1a-f043-3bee9537efc6"
      },
      "source": [
        "sent = \"Albert Einstein was born in Ulm, Germany in 1879.\"\n",
        "tokens=nltk.word_tokenize(sent)\n",
        "print(tokens)\n",
        "nltk.pos_tag(tokens)"
      ],
      "execution_count": 10,
      "outputs": [
        {
          "output_type": "stream",
          "text": [
            "['Albert', 'Einstein', 'was', 'born', 'in', 'Ulm', ',', 'Germany', 'in', '1879', '.']\n"
          ],
          "name": "stdout"
        },
        {
          "output_type": "execute_result",
          "data": {
            "text/plain": [
              "[('Albert', 'NNP'),\n",
              " ('Einstein', 'NNP'),\n",
              " ('was', 'VBD'),\n",
              " ('born', 'VBN'),\n",
              " ('in', 'IN'),\n",
              " ('Ulm', 'NNP'),\n",
              " (',', ','),\n",
              " ('Germany', 'NNP'),\n",
              " ('in', 'IN'),\n",
              " ('1879', 'CD'),\n",
              " ('.', '.')]"
            ]
          },
          "metadata": {
            "tags": []
          },
          "execution_count": 10
        }
      ]
    }
  ]
}