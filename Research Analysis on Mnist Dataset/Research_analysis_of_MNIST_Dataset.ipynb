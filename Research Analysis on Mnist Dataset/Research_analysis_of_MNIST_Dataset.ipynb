{
  "nbformat": 4,
  "nbformat_minor": 0,
  "metadata": {
    "kernelspec": {
      "display_name": "Python 3",
      "language": "python",
      "name": "python3"
    },
    "language_info": {
      "codemirror_mode": {
        "name": "ipython",
        "version": 3
      },
      "file_extension": ".py",
      "mimetype": "text/x-python",
      "name": "python",
      "nbconvert_exporter": "python",
      "pygments_lexer": "ipython3",
      "version": "3.7.6"
    },
    "colab": {
      "name": "Research analysis of MNIST Dataset.ipynb",
      "provenance": []
    }
  },
  "cells": [
    {
      "cell_type": "markdown",
      "metadata": {
        "id": "etzY706w9lrh",
        "colab_type": "text"
      },
      "source": [
        "## Section 1 \n",
        "\n",
        "### Introduction introduction to the MNIST dataset: \n",
        "MNIST database consists of handwritten digits which will be used by image processing systems. This database consists of training images (60,000) and testing images (10,000). The resolution of each image is 28x28 and is displayed in grayscale. The handwritten images have digits from 0 to 9. There are 784 features of pixels of each image and label features indicating which digit it is values from 0-9."
      ]
    },
    {
      "cell_type": "code",
      "metadata": {
        "id": "VYFyLTiU9lri",
        "colab_type": "code",
        "colab": {}
      },
      "source": [
        "import numpy as np\n",
        "import pandas as pd\n",
        "import os\n",
        "\n",
        "# for plotting\n",
        "import matplotlib.pyplot as plt\n",
        "import seaborn as sns\n",
        "%matplotlib inline\n",
        "\n",
        "# To divide train and test set\n",
        "from sklearn.model_selection import train_test_split\n",
        "\n",
        "# To build the models\n",
        "import xgboost \n",
        "\n",
        "## Model Evaluation metrics\n",
        "from sklearn import metrics\n",
        "from sklearn.metrics import confusion_matrix,accuracy_score,precision_score,recall_score,classification_report\n",
        "\n",
        "from mlxtend.data import loadlocal_mnist"
      ],
      "execution_count": null,
      "outputs": []
    },
    {
      "cell_type": "code",
      "metadata": {
        "id": "nv-JUrmF9lrl",
        "colab_type": "code",
        "colab": {}
      },
      "source": [
        "data,label = loadlocal_mnist(images_path='/content/train-images.idx3-ubyte',\n",
        "                             labels_path = '/content/train-labels.idx1-ubyte' )"
      ],
      "execution_count": null,
      "outputs": []
    },
    {
      "cell_type": "code",
      "metadata": {
        "id": "5aKefgSL9lrn",
        "colab_type": "code",
        "colab": {},
        "outputId": "42159388-2541-496a-c38f-d9a226fa163e"
      },
      "source": [
        "print('Dimensions:',data.shape)\n",
        "print('\\n1st row', data[0])"
      ],
      "execution_count": null,
      "outputs": [
        {
          "output_type": "stream",
          "text": [
            "Dimensions: (60000, 784)\n",
            "\n",
            "1st row [  0   0   0   0   0   0   0   0   0   0   0   0   0   0   0   0   0   0\n",
            "   0   0   0   0   0   0   0   0   0   0   0   0   0   0   0   0   0   0\n",
            "   0   0   0   0   0   0   0   0   0   0   0   0   0   0   0   0   0   0\n",
            "   0   0   0   0   0   0   0   0   0   0   0   0   0   0   0   0   0   0\n",
            "   0   0   0   0   0   0   0   0   0   0   0   0   0   0   0   0   0   0\n",
            "   0   0   0   0   0   0   0   0   0   0   0   0   0   0   0   0   0   0\n",
            "   0   0   0   0   0   0   0   0   0   0   0   0   0   0   0   0   0   0\n",
            "   0   0   0   0   0   0   0   0   0   0   0   0   0   0   0   0   0   0\n",
            "   0   0   0   0   0   0   0   0   3  18  18  18 126 136 175  26 166 255\n",
            " 247 127   0   0   0   0   0   0   0   0   0   0   0   0  30  36  94 154\n",
            " 170 253 253 253 253 253 225 172 253 242 195  64   0   0   0   0   0   0\n",
            "   0   0   0   0   0  49 238 253 253 253 253 253 253 253 253 251  93  82\n",
            "  82  56  39   0   0   0   0   0   0   0   0   0   0   0   0  18 219 253\n",
            " 253 253 253 253 198 182 247 241   0   0   0   0   0   0   0   0   0   0\n",
            "   0   0   0   0   0   0   0   0  80 156 107 253 253 205  11   0  43 154\n",
            "   0   0   0   0   0   0   0   0   0   0   0   0   0   0   0   0   0   0\n",
            "   0  14   1 154 253  90   0   0   0   0   0   0   0   0   0   0   0   0\n",
            "   0   0   0   0   0   0   0   0   0   0   0   0   0 139 253 190   2   0\n",
            "   0   0   0   0   0   0   0   0   0   0   0   0   0   0   0   0   0   0\n",
            "   0   0   0   0   0  11 190 253  70   0   0   0   0   0   0   0   0   0\n",
            "   0   0   0   0   0   0   0   0   0   0   0   0   0   0   0   0  35 241\n",
            " 225 160 108   1   0   0   0   0   0   0   0   0   0   0   0   0   0   0\n",
            "   0   0   0   0   0   0   0   0   0  81 240 253 253 119  25   0   0   0\n",
            "   0   0   0   0   0   0   0   0   0   0   0   0   0   0   0   0   0   0\n",
            "   0   0  45 186 253 253 150  27   0   0   0   0   0   0   0   0   0   0\n",
            "   0   0   0   0   0   0   0   0   0   0   0   0   0  16  93 252 253 187\n",
            "   0   0   0   0   0   0   0   0   0   0   0   0   0   0   0   0   0   0\n",
            "   0   0   0   0   0   0   0 249 253 249  64   0   0   0   0   0   0   0\n",
            "   0   0   0   0   0   0   0   0   0   0   0   0   0   0  46 130 183 253\n",
            " 253 207   2   0   0   0   0   0   0   0   0   0   0   0   0   0   0   0\n",
            "   0   0   0   0  39 148 229 253 253 253 250 182   0   0   0   0   0   0\n",
            "   0   0   0   0   0   0   0   0   0   0   0   0  24 114 221 253 253 253\n",
            " 253 201  78   0   0   0   0   0   0   0   0   0   0   0   0   0   0   0\n",
            "   0   0  23  66 213 253 253 253 253 198  81   2   0   0   0   0   0   0\n",
            "   0   0   0   0   0   0   0   0   0   0  18 171 219 253 253 253 253 195\n",
            "  80   9   0   0   0   0   0   0   0   0   0   0   0   0   0   0   0   0\n",
            "  55 172 226 253 253 253 253 244 133  11   0   0   0   0   0   0   0   0\n",
            "   0   0   0   0   0   0   0   0   0   0 136 253 253 253 212 135 132  16\n",
            "   0   0   0   0   0   0   0   0   0   0   0   0   0   0   0   0   0   0\n",
            "   0   0   0   0   0   0   0   0   0   0   0   0   0   0   0   0   0   0\n",
            "   0   0   0   0   0   0   0   0   0   0   0   0   0   0   0   0   0   0\n",
            "   0   0   0   0   0   0   0   0   0   0   0   0   0   0   0   0   0   0\n",
            "   0   0   0   0   0   0   0   0   0   0   0   0   0   0   0   0   0   0\n",
            "   0   0   0   0   0   0   0   0   0   0]\n"
          ],
          "name": "stdout"
        }
      ]
    },
    {
      "cell_type": "code",
      "metadata": {
        "id": "hPzwrvev9lrq",
        "colab_type": "code",
        "colab": {},
        "outputId": "56796d1a-ce06-4f0f-bcfe-eea3db9bb8c3"
      },
      "source": [
        "print('Digits:  0 1 2 3 4 5 6 7 8 9')\n",
        "print('labels: %s' % np.unique(label))\n",
        "print('Class distribution: %s' % np.bincount(label))"
      ],
      "execution_count": null,
      "outputs": [
        {
          "output_type": "stream",
          "text": [
            "Digits:  0 1 2 3 4 5 6 7 8 9\n",
            "labels: [0 1 2 3 4 5 6 7 8 9]\n",
            "Class distribution: [5923 6742 5958 6131 5842 5421 5918 6265 5851 5949]\n"
          ],
          "name": "stdout"
        }
      ]
    },
    {
      "cell_type": "code",
      "metadata": {
        "id": "n1dC1wsJ9lrs",
        "colab_type": "code",
        "colab": {}
      },
      "source": [
        "pixel_test,label_test = loadlocal_mnist(\n",
        "      images_path='/content/t10k-images.idx3-ubyte', \n",
        "        labels_path='/content/t10k-labels.idx1-ubyte')"
      ],
      "execution_count": null,
      "outputs": []
    },
    {
      "cell_type": "code",
      "metadata": {
        "id": "2p9FXs5w9lrv",
        "colab_type": "code",
        "colab": {},
        "outputId": "77728a1b-fef3-4bf9-9a64-020168ca5b41"
      },
      "source": [
        "print('Dimensions:',pixel_test.shape)\n",
        "print('\\n1st row', pixel_test[0])"
      ],
      "execution_count": null,
      "outputs": [
        {
          "output_type": "stream",
          "text": [
            "Dimensions: (10000, 784)\n",
            "\n",
            "1st row [  0   0   0   0   0   0   0   0   0   0   0   0   0   0   0   0   0   0\n",
            "   0   0   0   0   0   0   0   0   0   0   0   0   0   0   0   0   0   0\n",
            "   0   0   0   0   0   0   0   0   0   0   0   0   0   0   0   0   0   0\n",
            "   0   0   0   0   0   0   0   0   0   0   0   0   0   0   0   0   0   0\n",
            "   0   0   0   0   0   0   0   0   0   0   0   0   0   0   0   0   0   0\n",
            "   0   0   0   0   0   0   0   0   0   0   0   0   0   0   0   0   0   0\n",
            "   0   0   0   0   0   0   0   0   0   0   0   0   0   0   0   0   0   0\n",
            "   0   0   0   0   0   0   0   0   0   0   0   0   0   0   0   0   0   0\n",
            "   0   0   0   0   0   0   0   0   0   0   0   0   0   0   0   0   0   0\n",
            "   0   0   0   0   0   0   0   0   0   0   0   0   0   0   0   0   0   0\n",
            "   0   0   0   0   0   0   0   0   0   0   0   0   0   0   0   0   0   0\n",
            "   0   0   0   0  84 185 159 151  60  36   0   0   0   0   0   0   0   0\n",
            "   0   0   0   0   0   0   0   0   0   0   0   0   0   0 222 254 254 254\n",
            " 254 241 198 198 198 198 198 198 198 198 170  52   0   0   0   0   0   0\n",
            "   0   0   0   0   0   0  67 114  72 114 163 227 254 225 254 254 254 250\n",
            " 229 254 254 140   0   0   0   0   0   0   0   0   0   0   0   0   0   0\n",
            "   0   0   0  17  66  14  67  67  67  59  21 236 254 106   0   0   0   0\n",
            "   0   0   0   0   0   0   0   0   0   0   0   0   0   0   0   0   0   0\n",
            "   0   0  83 253 209  18   0   0   0   0   0   0   0   0   0   0   0   0\n",
            "   0   0   0   0   0   0   0   0   0   0   0  22 233 255  83   0   0   0\n",
            "   0   0   0   0   0   0   0   0   0   0   0   0   0   0   0   0   0   0\n",
            "   0   0   0 129 254 238  44   0   0   0   0   0   0   0   0   0   0   0\n",
            "   0   0   0   0   0   0   0   0   0   0   0   0  59 249 254  62   0   0\n",
            "   0   0   0   0   0   0   0   0   0   0   0   0   0   0   0   0   0   0\n",
            "   0   0   0   0 133 254 187   5   0   0   0   0   0   0   0   0   0   0\n",
            "   0   0   0   0   0   0   0   0   0   0   0   0   0   9 205 248  58   0\n",
            "   0   0   0   0   0   0   0   0   0   0   0   0   0   0   0   0   0   0\n",
            "   0   0   0   0   0 126 254 182   0   0   0   0   0   0   0   0   0   0\n",
            "   0   0   0   0   0   0   0   0   0   0   0   0   0   0  75 251 240  57\n",
            "   0   0   0   0   0   0   0   0   0   0   0   0   0   0   0   0   0   0\n",
            "   0   0   0   0   0  19 221 254 166   0   0   0   0   0   0   0   0   0\n",
            "   0   0   0   0   0   0   0   0   0   0   0   0   0   0   3 203 254 219\n",
            "  35   0   0   0   0   0   0   0   0   0   0   0   0   0   0   0   0   0\n",
            "   0   0   0   0   0   0  38 254 254  77   0   0   0   0   0   0   0   0\n",
            "   0   0   0   0   0   0   0   0   0   0   0   0   0   0   0  31 224 254\n",
            " 115   1   0   0   0   0   0   0   0   0   0   0   0   0   0   0   0   0\n",
            "   0   0   0   0   0   0   0 133 254 254  52   0   0   0   0   0   0   0\n",
            "   0   0   0   0   0   0   0   0   0   0   0   0   0   0   0   0  61 242\n",
            " 254 254  52   0   0   0   0   0   0   0   0   0   0   0   0   0   0   0\n",
            "   0   0   0   0   0   0   0   0 121 254 254 219  40   0   0   0   0   0\n",
            "   0   0   0   0   0   0   0   0   0   0   0   0   0   0   0   0   0   0\n",
            " 121 254 207  18   0   0   0   0   0   0   0   0   0   0   0   0   0   0\n",
            "   0   0   0   0   0   0   0   0   0   0   0   0   0   0   0   0   0   0\n",
            "   0   0   0   0   0   0   0   0   0   0]\n"
          ],
          "name": "stdout"
        }
      ]
    },
    {
      "cell_type": "code",
      "metadata": {
        "id": "IdTDeFIt9lrx",
        "colab_type": "code",
        "colab": {},
        "outputId": "825380d6-9f8e-485c-a2c8-24870c11cee9"
      },
      "source": [
        "print('Digits:  0 1 2 3 4 5 6 7 8 9')\n",
        "print('labels: %s' % np.unique(label_test))\n",
        "print('Class distribution: %s' % np.bincount(label_test))"
      ],
      "execution_count": null,
      "outputs": [
        {
          "output_type": "stream",
          "text": [
            "Digits:  0 1 2 3 4 5 6 7 8 9\n",
            "labels: [0 1 2 3 4 5 6 7 8 9]\n",
            "Class distribution: [ 980 1135 1032 1010  982  892  958 1028  974 1009]\n"
          ],
          "name": "stdout"
        }
      ]
    },
    {
      "cell_type": "code",
      "metadata": {
        "id": "7YZJt9jt9lr0",
        "colab_type": "code",
        "colab": {}
      },
      "source": [
        "col = []\n",
        "for i in range(0,784):\n",
        "    col.append('pixel_'+str(i))"
      ],
      "execution_count": null,
      "outputs": []
    },
    {
      "cell_type": "code",
      "metadata": {
        "id": "egt-XJaW9lr2",
        "colab_type": "code",
        "colab": {}
      },
      "source": [
        "train = pd.DataFrame(data,columns=col)\n",
        "test = pd.DataFrame(pixel_test,columns=col)"
      ],
      "execution_count": null,
      "outputs": []
    },
    {
      "cell_type": "code",
      "metadata": {
        "id": "eoLCQNEe9lr5",
        "colab_type": "code",
        "colab": {},
        "outputId": "663bfc74-4311-4de7-c658-5c1188d454d8"
      },
      "source": [
        "array_train = np.array(train)\n",
        "label_train = np.array(label)\n",
        "\n",
        "array_test = np.array(test)\n",
        "lab_test = np.array(label_test)\n",
        "\n",
        "print(array_train.shape)\n",
        "print(label_train.shape)\n",
        "print(array_test.shape)\n",
        "print(lab_test.shape)"
      ],
      "execution_count": null,
      "outputs": [
        {
          "output_type": "stream",
          "text": [
            "(60000, 784)\n",
            "(60000,)\n",
            "(10000, 784)\n",
            "(10000,)\n"
          ],
          "name": "stdout"
        }
      ]
    },
    {
      "cell_type": "code",
      "metadata": {
        "id": "MUIWgmsZ9lr8",
        "colab_type": "code",
        "colab": {},
        "outputId": "2837e6b2-5299-4f80-b8a3-f5ae8f1cadec"
      },
      "source": [
        "s = np.random.choice(range(array_train.shape[0]), size=10, replace=False)  # Randomly select few samples\n",
        "\n",
        "print(s)\n",
        "plt.figure(figsize=(15,5))\n",
        "for i,j in enumerate(s):   \n",
        "    plt.subplot(2,5,i+1)                                # Subplot flag\n",
        "    plt.imshow(np.array(array_train[j]).reshape(28,28))     # Plot the image\n",
        "    plt.title('Digit: '+str(label_train[j]))              # Target of the image\n",
        "    plt.xticks([])                                      # No X-Axis ticks\n",
        "    plt.yticks([])                                      # No Y-Axis ticks\n",
        "    plt.gray()       "
      ],
      "execution_count": null,
      "outputs": [
        {
          "output_type": "stream",
          "text": [
            "[10263 24785 31270  7894 55521 33010 58708 18146 10229  5290]\n"
          ],
          "name": "stdout"
        },
        {
          "output_type": "display_data",
          "data": {
            "image/png": "[encoded data removed]",
            "text/plain": [
              "<Figure size 1080x360 with 10 Axes>"
            ]
          },
          "metadata": {
            "tags": []
          }
        }
      ]
    },
    {
      "cell_type": "code",
      "metadata": {
        "id": "OmJCLSmL9lr-",
        "colab_type": "code",
        "colab": {}
      },
      "source": [
        "X_train, X_val, y_train, y_val = train_test_split(train, label, test_size=0.20)  "
      ],
      "execution_count": null,
      "outputs": []
    },
    {
      "cell_type": "markdown",
      "metadata": {
        "id": "WiLs0gm99lsA",
        "colab_type": "text"
      },
      "source": [
        "## Section 2\n",
        "### Building and Xgboost Model"
      ]
    },
    {
      "cell_type": "code",
      "metadata": {
        "id": "kZcL_PMO9lsA",
        "colab_type": "code",
        "colab": {}
      },
      "source": [
        "mat_train = xgboost.DMatrix(X_train, label=y_train)\n",
        "mat_val = xgboost.DMatrix(X_val, label=y_val)"
      ],
      "execution_count": null,
      "outputs": []
    },
    {
      "cell_type": "code",
      "metadata": {
        "id": "N7wHrzsT9lsC",
        "colab_type": "code",
        "colab": {}
      },
      "source": [
        "params = {\n",
        "    'max_depth': 5,                 \n",
        "    'eta': 0.5,                     \n",
        "    'eta_decay': 0.9,\n",
        "    'min_eta': 0.05,\n",
        "    'silent': 0,                    \n",
        "    'objective': 'multi:softmax',  \n",
        "    'num_class': 10,                \n",
        "    'early_stopping_rounds': 10,\n",
        "    'n_estimators': 5000\n",
        "} "
      ],
      "execution_count": null,
      "outputs": []
    },
    {
      "cell_type": "code",
      "metadata": {
        "id": "E0m-divv9lsE",
        "colab_type": "code",
        "colab": {}
      },
      "source": [
        "def eval_accuracy(preds,mat_train):\n",
        "    labels = mat_train.get_label()\n",
        "    return 'acc',metrics.accuracy_score(labels,preds)"
      ],
      "execution_count": null,
      "outputs": []
    },
    {
      "cell_type": "code",
      "metadata": {
        "id": "VZqQ5dcw9lsH",
        "colab_type": "code",
        "colab": {},
        "outputId": "eed80628-b34f-4e5d-a30d-e42bc423ff71"
      },
      "source": [
        "results = {}\n",
        "model = xgboost.train(params,mat_train,num_boost_round=50,evals=[(mat_val,'Val')],\n",
        "                      evals_result=results,feval=eval_accuracy)"
      ],
      "execution_count": null,
      "outputs": [
        {
          "output_type": "stream",
          "text": [
            "[0]\tVal-merror:0.187917\tVal-acc:0.812083\n",
            "[1]\tVal-merror:0.13625\tVal-acc:0.86375\n",
            "[2]\tVal-merror:0.113583\tVal-acc:0.886417\n",
            "[3]\tVal-merror:0.100167\tVal-acc:0.899833\n",
            "[4]\tVal-merror:0.087583\tVal-acc:0.912417\n",
            "[5]\tVal-merror:0.07825\tVal-acc:0.92175\n",
            "[6]\tVal-merror:0.072667\tVal-acc:0.927333\n",
            "[7]\tVal-merror:0.066083\tVal-acc:0.933917\n",
            "[8]\tVal-merror:0.06375\tVal-acc:0.93625\n",
            "[9]\tVal-merror:0.059583\tVal-acc:0.940417\n",
            "[10]\tVal-merror:0.057083\tVal-acc:0.942917\n",
            "[11]\tVal-merror:0.0545\tVal-acc:0.9455\n",
            "[12]\tVal-merror:0.052417\tVal-acc:0.947583\n",
            "[13]\tVal-merror:0.0495\tVal-acc:0.9505\n",
            "[14]\tVal-merror:0.046417\tVal-acc:0.953583\n",
            "[15]\tVal-merror:0.04475\tVal-acc:0.95525\n",
            "[16]\tVal-merror:0.043583\tVal-acc:0.956417\n",
            "[17]\tVal-merror:0.043\tVal-acc:0.957\n",
            "[18]\tVal-merror:0.0415\tVal-acc:0.9585\n",
            "[19]\tVal-merror:0.040417\tVal-acc:0.959583\n",
            "[20]\tVal-merror:0.039167\tVal-acc:0.960833\n",
            "[21]\tVal-merror:0.038167\tVal-acc:0.961833\n",
            "[22]\tVal-merror:0.037167\tVal-acc:0.962833\n",
            "[23]\tVal-merror:0.036083\tVal-acc:0.963917\n",
            "[24]\tVal-merror:0.035583\tVal-acc:0.964417\n",
            "[25]\tVal-merror:0.035083\tVal-acc:0.964917\n",
            "[26]\tVal-merror:0.034667\tVal-acc:0.965333\n",
            "[27]\tVal-merror:0.033583\tVal-acc:0.966417\n",
            "[28]\tVal-merror:0.033\tVal-acc:0.967\n",
            "[29]\tVal-merror:0.033\tVal-acc:0.967\n",
            "[30]\tVal-merror:0.031917\tVal-acc:0.968083\n",
            "[31]\tVal-merror:0.032333\tVal-acc:0.967667\n",
            "[32]\tVal-merror:0.03125\tVal-acc:0.96875\n",
            "[33]\tVal-merror:0.0305\tVal-acc:0.9695\n",
            "[34]\tVal-merror:0.030333\tVal-acc:0.969667\n",
            "[35]\tVal-merror:0.030167\tVal-acc:0.969833\n",
            "[36]\tVal-merror:0.029417\tVal-acc:0.970583\n",
            "[37]\tVal-merror:0.029167\tVal-acc:0.970833\n",
            "[38]\tVal-merror:0.0285\tVal-acc:0.9715\n",
            "[39]\tVal-merror:0.028083\tVal-acc:0.971917\n",
            "[40]\tVal-merror:0.028083\tVal-acc:0.971917\n",
            "[41]\tVal-merror:0.02775\tVal-acc:0.97225\n",
            "[42]\tVal-merror:0.027417\tVal-acc:0.972583\n",
            "[43]\tVal-merror:0.027333\tVal-acc:0.972667\n",
            "[44]\tVal-merror:0.026833\tVal-acc:0.973167\n",
            "[45]\tVal-merror:0.0265\tVal-acc:0.9735\n",
            "[46]\tVal-merror:0.025667\tVal-acc:0.974333\n",
            "[47]\tVal-merror:0.025833\tVal-acc:0.974167\n",
            "[48]\tVal-merror:0.025333\tVal-acc:0.974667\n",
            "[49]\tVal-merror:0.02525\tVal-acc:0.97475\n"
          ],
          "name": "stdout"
        }
      ]
    },
    {
      "cell_type": "code",
      "metadata": {
        "id": "_Og4Kuxk9lsJ",
        "colab_type": "code",
        "colab": {},
        "outputId": "ad8bc14a-2236-42a4-befb-bbdd16dc06ce"
      },
      "source": [
        "test.head()"
      ],
      "execution_count": null,
      "outputs": [
        {
          "output_type": "execute_result",
          "data": {
            "text/html": [
              "<div>\n",
              "<style scoped>\n",
              "    .dataframe tbody tr th:only-of-type {\n",
              "        vertical-align: middle;\n",
              "    }\n",
              "\n",
              "    .dataframe tbody tr th {\n",
              "        vertical-align: top;\n",
              "    }\n",
              "\n",
              "    .dataframe thead th {\n",
              "        text-align: right;\n",
              "    }\n",
              "</style>\n",
              "<table border=\"1\" class=\"dataframe\">\n",
              "  <thead>\n",
              "    <tr style=\"text-align: right;\">\n",
              "      <th></th>\n",
              "      <th>pixel_0</th>\n",
              "      <th>pixel_1</th>\n",
              "      <th>pixel_2</th>\n",
              "      <th>pixel_3</th>\n",
              "      <th>pixel_4</th>\n",
              "      <th>pixel_5</th>\n",
              "      <th>pixel_6</th>\n",
              "      <th>pixel_7</th>\n",
              "      <th>pixel_8</th>\n",
              "      <th>pixel_9</th>\n",
              "      <th>...</th>\n",
              "      <th>pixel_774</th>\n",
              "      <th>pixel_775</th>\n",
              "      <th>pixel_776</th>\n",
              "      <th>pixel_777</th>\n",
              "      <th>pixel_778</th>\n",
              "      <th>pixel_779</th>\n",
              "      <th>pixel_780</th>\n",
              "      <th>pixel_781</th>\n",
              "      <th>pixel_782</th>\n",
              "      <th>pixel_783</th>\n",
              "    </tr>\n",
              "  </thead>\n",
              "  <tbody>\n",
              "    <tr>\n",
              "      <th>0</th>\n",
              "      <td>0</td>\n",
              "      <td>0</td>\n",
              "      <td>0</td>\n",
              "      <td>0</td>\n",
              "      <td>0</td>\n",
              "      <td>0</td>\n",
              "      <td>0</td>\n",
              "      <td>0</td>\n",
              "      <td>0</td>\n",
              "      <td>0</td>\n",
              "      <td>...</td>\n",
              "      <td>0</td>\n",
              "      <td>0</td>\n",
              "      <td>0</td>\n",
              "      <td>0</td>\n",
              "      <td>0</td>\n",
              "      <td>0</td>\n",
              "      <td>0</td>\n",
              "      <td>0</td>\n",
              "      <td>0</td>\n",
              "      <td>0</td>\n",
              "    </tr>\n",
              "    <tr>\n",
              "      <th>1</th>\n",
              "      <td>0</td>\n",
              "      <td>0</td>\n",
              "      <td>0</td>\n",
              "      <td>0</td>\n",
              "      <td>0</td>\n",
              "      <td>0</td>\n",
              "      <td>0</td>\n",
              "      <td>0</td>\n",
              "      <td>0</td>\n",
              "      <td>0</td>\n",
              "      <td>...</td>\n",
              "      <td>0</td>\n",
              "      <td>0</td>\n",
              "      <td>0</td>\n",
              "      <td>0</td>\n",
              "      <td>0</td>\n",
              "      <td>0</td>\n",
              "      <td>0</td>\n",
              "      <td>0</td>\n",
              "      <td>0</td>\n",
              "      <td>0</td>\n",
              "    </tr>\n",
              "    <tr>\n",
              "      <th>2</th>\n",
              "      <td>0</td>\n",
              "      <td>0</td>\n",
              "      <td>0</td>\n",
              "      <td>0</td>\n",
              "      <td>0</td>\n",
              "      <td>0</td>\n",
              "      <td>0</td>\n",
              "      <td>0</td>\n",
              "      <td>0</td>\n",
              "      <td>0</td>\n",
              "      <td>...</td>\n",
              "      <td>0</td>\n",
              "      <td>0</td>\n",
              "      <td>0</td>\n",
              "      <td>0</td>\n",
              "      <td>0</td>\n",
              "      <td>0</td>\n",
              "      <td>0</td>\n",
              "      <td>0</td>\n",
              "      <td>0</td>\n",
              "      <td>0</td>\n",
              "    </tr>\n",
              "    <tr>\n",
              "      <th>3</th>\n",
              "      <td>0</td>\n",
              "      <td>0</td>\n",
              "      <td>0</td>\n",
              "      <td>0</td>\n",
              "      <td>0</td>\n",
              "      <td>0</td>\n",
              "      <td>0</td>\n",
              "      <td>0</td>\n",
              "      <td>0</td>\n",
              "      <td>0</td>\n",
              "      <td>...</td>\n",
              "      <td>0</td>\n",
              "      <td>0</td>\n",
              "      <td>0</td>\n",
              "      <td>0</td>\n",
              "      <td>0</td>\n",
              "      <td>0</td>\n",
              "      <td>0</td>\n",
              "      <td>0</td>\n",
              "      <td>0</td>\n",
              "      <td>0</td>\n",
              "    </tr>\n",
              "    <tr>\n",
              "      <th>4</th>\n",
              "      <td>0</td>\n",
              "      <td>0</td>\n",
              "      <td>0</td>\n",
              "      <td>0</td>\n",
              "      <td>0</td>\n",
              "      <td>0</td>\n",
              "      <td>0</td>\n",
              "      <td>0</td>\n",
              "      <td>0</td>\n",
              "      <td>0</td>\n",
              "      <td>...</td>\n",
              "      <td>0</td>\n",
              "      <td>0</td>\n",
              "      <td>0</td>\n",
              "      <td>0</td>\n",
              "      <td>0</td>\n",
              "      <td>0</td>\n",
              "      <td>0</td>\n",
              "      <td>0</td>\n",
              "      <td>0</td>\n",
              "      <td>0</td>\n",
              "    </tr>\n",
              "  </tbody>\n",
              "</table>\n",
              "<p>5 rows × 784 columns</p>\n",
              "</div>"
            ],
            "text/plain": [
              "   pixel_0  pixel_1  pixel_2  pixel_3  pixel_4  pixel_5  pixel_6  pixel_7  \\\n",
              "0        0        0        0        0        0        0        0        0   \n",
              "1        0        0        0        0        0        0        0        0   \n",
              "2        0        0        0        0        0        0        0        0   \n",
              "3        0        0        0        0        0        0        0        0   \n",
              "4        0        0        0        0        0        0        0        0   \n",
              "\n",
              "   pixel_8  pixel_9  ...  pixel_774  pixel_775  pixel_776  pixel_777  \\\n",
              "0        0        0  ...          0          0          0          0   \n",
              "1        0        0  ...          0          0          0          0   \n",
              "2        0        0  ...          0          0          0          0   \n",
              "3        0        0  ...          0          0          0          0   \n",
              "4        0        0  ...          0          0          0          0   \n",
              "\n",
              "   pixel_778  pixel_779  pixel_780  pixel_781  pixel_782  pixel_783  \n",
              "0          0          0          0          0          0          0  \n",
              "1          0          0          0          0          0          0  \n",
              "2          0          0          0          0          0          0  \n",
              "3          0          0          0          0          0          0  \n",
              "4          0          0          0          0          0          0  \n",
              "\n",
              "[5 rows x 784 columns]"
            ]
          },
          "metadata": {
            "tags": []
          },
          "execution_count": 17
        }
      ]
    },
    {
      "cell_type": "code",
      "metadata": {
        "id": "4ny_RaXy9lsL",
        "colab_type": "code",
        "colab": {}
      },
      "source": [
        "x_test = test.values\n",
        "mat_test = xgboost.DMatrix(x_test)"
      ],
      "execution_count": null,
      "outputs": []
    },
    {
      "cell_type": "code",
      "metadata": {
        "id": "ao-pJ-g89lsN",
        "colab_type": "code",
        "colab": {},
        "outputId": "5cae48b3-4e05-430a-c627-aebb9deedf51"
      },
      "source": [
        "mat_test"
      ],
      "execution_count": null,
      "outputs": [
        {
          "output_type": "execute_result",
          "data": {
            "text/plain": [
              "<xgboost.core.DMatrix at 0x14200000948>"
            ]
          },
          "metadata": {
            "tags": []
          },
          "execution_count": 19
        }
      ]
    },
    {
      "cell_type": "code",
      "metadata": {
        "id": "MfT_cjmf9lsP",
        "colab_type": "code",
        "colab": {},
        "outputId": "54c78180-d190-4f61-c6cd-025cf662a00a"
      },
      "source": [
        "preds = model.predict(mat_test,validate_features=False).astype('int')\n",
        "print(preds.shape)\n",
        "preds"
      ],
      "execution_count": null,
      "outputs": [
        {
          "output_type": "stream",
          "text": [
            "(10000,)\n"
          ],
          "name": "stdout"
        },
        {
          "output_type": "execute_result",
          "data": {
            "text/plain": [
              "array([7, 2, 1, ..., 4, 5, 6])"
            ]
          },
          "metadata": {
            "tags": []
          },
          "execution_count": 20
        }
      ]
    },
    {
      "cell_type": "code",
      "metadata": {
        "id": "Lk0pnxY09lsR",
        "colab_type": "code",
        "colab": {},
        "outputId": "a787dfe3-2590-4eab-fe5b-939ef84d3759"
      },
      "source": [
        "i=222\n",
        "img = array_test[i]\n",
        "img = np.reshape(img, (28, 28) )\n",
        "plt.title('predicted Number')\n",
        "plt.xticks([])\n",
        "plt.yticks([])\n",
        "plt.imshow(img)\n",
        "print(\"Predicted value: \" + str(preds[i]))\n",
        "print(\"Actual value: \" + str(label_test[i]))"
      ],
      "execution_count": null,
      "outputs": [
        {
          "output_type": "stream",
          "text": [
            "Predicted value: 2\n",
            "Actual value: 2\n"
          ],
          "name": "stdout"
        },
        {
          "output_type": "display_data",
          "data": {
            "image/png": "[encoded data removed]",
            "text/plain": [
              "<Figure size 432x288 with 1 Axes>"
            ]
          },
          "metadata": {
            "tags": []
          }
        }
      ]
    },
    {
      "cell_type": "code",
      "metadata": {
        "id": "i4-TjMbY9lsT",
        "colab_type": "code",
        "colab": {},
        "outputId": "decbfc3d-b8aa-4ae9-cb9a-cbde3fc3c4b0"
      },
      "source": [
        "print(classification_report(lab_test,preds))"
      ],
      "execution_count": null,
      "outputs": [
        {
          "output_type": "stream",
          "text": [
            "              precision    recall  f1-score   support\n",
            "\n",
            "           0       0.98      0.99      0.98       980\n",
            "           1       0.99      0.99      0.99      1135\n",
            "           2       0.96      0.97      0.97      1032\n",
            "           3       0.96      0.97      0.97      1010\n",
            "           4       0.99      0.97      0.98       982\n",
            "           5       0.98      0.96      0.97       892\n",
            "           6       0.98      0.97      0.98       958\n",
            "           7       0.97      0.96      0.97      1028\n",
            "           8       0.96      0.98      0.97       974\n",
            "           9       0.96      0.96      0.96      1009\n",
            "\n",
            "    accuracy                           0.97     10000\n",
            "   macro avg       0.97      0.97      0.97     10000\n",
            "weighted avg       0.97      0.97      0.97     10000\n",
            "\n"
          ],
          "name": "stdout"
        }
      ]
    },
    {
      "cell_type": "markdown",
      "metadata": {
        "id": "VyEHjLfT9lsV",
        "colab_type": "text"
      },
      "source": [
        "## Section 3"
      ]
    },
    {
      "cell_type": "code",
      "metadata": {
        "id": "qFHecrhw9lsV",
        "colab_type": "code",
        "colab": {},
        "outputId": "ca96b381-5fd8-4c5f-821d-1fbbbf5d15c1"
      },
      "source": [
        "from __future__ import print_function\n",
        "import keras\n",
        "from keras.datasets import mnist\n",
        "from keras.models import Sequential\n",
        "from keras.layers import Dense, Dropout, Flatten, Activation\n",
        "from keras.layers import Conv2D, MaxPooling2D\n",
        "from keras import backend as K\n",
        "import matplotlib.pyplot as plt\n",
        "import random"
      ],
      "execution_count": null,
      "outputs": [
        {
          "output_type": "stream",
          "text": [
            "Using TensorFlow backend.\n"
          ],
          "name": "stderr"
        }
      ]
    },
    {
      "cell_type": "code",
      "metadata": {
        "id": "PD61sBWQ9lsX",
        "colab_type": "code",
        "colab": {},
        "outputId": "9a9b4ca7-a079-4493-d488-dd9794a58788"
      },
      "source": [
        "import matplotlib.pyplot as plt    # For plotting \n",
        "%matplotlib inline                 \n",
        "\n",
        "s = np.random.choice(range(array_train.shape[0]), size=10, replace=False)  # Randomly select few samples\n",
        "\n",
        "print(s)\n",
        "plt.figure(figsize=(15,5))\n",
        "for i,j in enumerate(s):   \n",
        "    plt.subplot(2,5,i+1)                                # Subplot flag\n",
        "    plt.imshow(np.array(array_train[j]).reshape(28,28))     # Plot the image\n",
        "    plt.title('Digit: '+str(label_train[j]))              # Target of the image\n",
        "    plt.xticks([])                                      # No X-Axis ticks\n",
        "    plt.yticks([])                                      # No Y-Axis ticks\n",
        "    plt.gray()   "
      ],
      "execution_count": null,
      "outputs": [
        {
          "output_type": "stream",
          "text": [
            "[10146 40244  3187  9291 46519   151  3749  4050 51288 43108]\n"
          ],
          "name": "stdout"
        },
        {
          "output_type": "display_data",
          "data": {
            "image/png": "[encoded data removed]",
            "text/plain": [
              "<Figure size 1080x360 with 10 Axes>"
            ]
          },
          "metadata": {
            "tags": []
          }
        }
      ]
    },
    {
      "cell_type": "code",
      "metadata": {
        "id": "bcqq06509lsZ",
        "colab_type": "code",
        "colab": {},
        "outputId": "d2ca28c2-b988-407d-b8e5-3653d0172269"
      },
      "source": [
        "# Check the dimensions of the arrays\n",
        "print('x_train shape: {}'.format(array_train.shape))\n",
        "print('y_train shape: {}'.format(label_train.shape))\n",
        "print('x_test shape:  {}'.format(array_test.shape))\n",
        "print('y_test shape:  {}'.format(lab_test.shape))"
      ],
      "execution_count": null,
      "outputs": [
        {
          "output_type": "stream",
          "text": [
            "x_train shape: (60000, 784)\n",
            "y_train shape: (60000,)\n",
            "x_test shape:  (10000, 784)\n",
            "y_test shape:  (10000,)\n"
          ],
          "name": "stdout"
        }
      ]
    },
    {
      "cell_type": "code",
      "metadata": {
        "id": "dBaysgS39lsb",
        "colab_type": "code",
        "colab": {}
      },
      "source": [
        "img_rows, img_cols = 28, 28"
      ],
      "execution_count": null,
      "outputs": []
    },
    {
      "cell_type": "code",
      "metadata": {
        "id": "_Gj2z-xA9lsd",
        "colab_type": "code",
        "colab": {}
      },
      "source": [
        "if K.image_data_format() == 'channels_first':\n",
        "    x_train = array_train.reshape(array_train.shape[0], 1, img_rows, img_cols)\n",
        "    x_test = array_test.reshape(array_test.shape[0], 1, img_rows, img_cols)\n",
        "    input_shape = (1, img_rows, img_cols)\n",
        "else:\n",
        "    x_train = array_train.reshape(array_train.shape[0], img_rows, img_cols, 1)\n",
        "    x_test = array_test.reshape(array_test.shape[0], img_rows, img_cols, 1)\n",
        "    input_shape = (img_rows, img_cols, 1)"
      ],
      "execution_count": null,
      "outputs": []
    },
    {
      "cell_type": "markdown",
      "metadata": {
        "id": "DCf-9HZq9lsf",
        "colab_type": "text"
      },
      "source": [
        "### Convert the class labels to one-hot vectors using '' to_categorical \".\n"
      ]
    },
    {
      "cell_type": "code",
      "metadata": {
        "id": "O8VHb9LF9lsf",
        "colab_type": "code",
        "colab": {}
      },
      "source": [
        "from keras.utils import to_categorical\n",
        "y_train = to_categorical(label_train)\n",
        "y_test = to_categorical(label_test)"
      ],
      "execution_count": null,
      "outputs": []
    },
    {
      "cell_type": "code",
      "metadata": {
        "id": "puAJXbZ69lsh",
        "colab_type": "code",
        "colab": {},
        "outputId": "301d5de2-7792-4061-b0ca-fa526777f12e"
      },
      "source": [
        "x_train = x_train.astype('float32')\n",
        "x_test = x_test.astype('float32')\n",
        "x_train /= 255\n",
        "x_test /= 255\n",
        "print('x_train shape:', x_train.shape)\n",
        "print(x_train.shape[0], 'train samples')\n",
        "print(x_test.shape[0], 'test samples')"
      ],
      "execution_count": null,
      "outputs": [
        {
          "output_type": "stream",
          "text": [
            "x_train shape: (60000, 28, 28, 1)\n",
            "60000 train samples\n",
            "10000 test samples\n"
          ],
          "name": "stdout"
        }
      ]
    },
    {
      "cell_type": "code",
      "metadata": {
        "id": "h6V9bUlO9lsj",
        "colab_type": "code",
        "colab": {}
      },
      "source": [
        "def CNN_model():\n",
        "    model = Sequential()\n",
        "    model.add(Conv2D(32, (5, 5), input_shape=( 28, 28, 1), activation='relu'))\n",
        "    model.add(MaxPooling2D(pool_size=(2, 2)))\n",
        "    model.add(Dropout(0.2))\n",
        "    model.add(Flatten())\n",
        "    model.add(Dense(128, activation='relu'))\n",
        "    model.add(Dense(10, activation='softmax'))\n",
        "    # Compile model\n",
        "    model.compile(loss='categorical_crossentropy', optimizer='adam', metrics=['accuracy'])\n",
        "    return model"
      ],
      "execution_count": null,
      "outputs": []
    },
    {
      "cell_type": "code",
      "metadata": {
        "id": "Z7k3fUtP9lsm",
        "colab_type": "code",
        "colab": {}
      },
      "source": [
        "model = CNN_model()"
      ],
      "execution_count": null,
      "outputs": []
    },
    {
      "cell_type": "code",
      "metadata": {
        "id": "fHvVh8Zw9lsp",
        "colab_type": "code",
        "colab": {},
        "outputId": "21943115-e8db-46da-ec23-9d8e07306cb6"
      },
      "source": [
        "history = model.fit(x_train, y_train, epochs=5, validation_split= 0.2, batch_size=200, verbose=1)"
      ],
      "execution_count": null,
      "outputs": [
        {
          "output_type": "stream",
          "text": [
            "Train on 48000 samples, validate on 12000 samples\n",
            "Epoch 1/5\n",
            "48000/48000 [==============================] - 20s 422us/step - loss: 0.0746 - accuracy: 0.9774 - val_loss: 0.0617 - val_accuracy: 0.9818\n",
            "Epoch 2/5\n",
            "48000/48000 [==============================] - 20s 418us/step - loss: 0.0563 - accuracy: 0.9830 - val_loss: 0.0533 - val_accuracy: 0.9838\n",
            "Epoch 3/5\n",
            "48000/48000 [==============================] - 20s 419us/step - loss: 0.0440 - accuracy: 0.9862 - val_loss: 0.0488 - val_accuracy: 0.9863\n",
            "Epoch 4/5\n",
            "48000/48000 [==============================] - 20s 416us/step - loss: 0.0361 - accuracy: 0.9888 - val_loss: 0.0479 - val_accuracy: 0.9855\n",
            "Epoch 5/5\n",
            "48000/48000 [==============================] - 20s 416us/step - loss: 0.0297 - accuracy: 0.9906 - val_loss: 0.0445 - val_accuracy: 0.9864\n"
          ],
          "name": "stdout"
        }
      ]
    },
    {
      "cell_type": "code",
      "metadata": {
        "id": "wj_rn7sN9lsr",
        "colab_type": "code",
        "colab": {}
      },
      "source": [
        "train_acc = history.history['accuracy']\n",
        "train_loss = history.history['loss']\n",
        "\n",
        "val_acc = history.history['val_accuracy']\n",
        "val_loss = history.history['val_loss']"
      ],
      "execution_count": null,
      "outputs": []
    },
    {
      "cell_type": "code",
      "metadata": {
        "id": "wbxf5MtH9lss",
        "colab_type": "code",
        "colab": {},
        "outputId": "20ae3335-c188-47ec-be85-4dd6d9beb496"
      },
      "source": [
        "from matplotlib import pyplot as plt #plt is a visualization module in matplotlib.  \n",
        "%matplotlib inline \n",
        "plt.figure(figsize=(20,5))\n",
        "plt.subplot(1,2,1)\n",
        "plt.xlabel('Epochs',fontsize=20)\n",
        "plt.ylabel('Loss',fontsize=20)\n",
        "plt.plot(train_loss)\n",
        "plt.plot(val_loss)\n",
        "\n",
        "plt.subplot(1,2,2)\n",
        "plt.xlabel('Epochs',fontsize=20)\n",
        "plt.ylabel('Accuracy',fontsize=20)\n",
        "plt.plot(train_acc)\n",
        "plt.plot(val_acc);"
      ],
      "execution_count": null,
      "outputs": [
        {
          "output_type": "display_data",
          "data": {
            "image/png": "[encoded data removed]",
            "text/plain": [
              "<Figure size 1440x360 with 2 Axes>"
            ]
          },
          "metadata": {
            "tags": [],
            "needs_background": "light"
          }
        }
      ]
    },
    {
      "cell_type": "code",
      "metadata": {
        "id": "oOjXda7w9lsu",
        "colab_type": "code",
        "colab": {}
      },
      "source": [
        "predictions = model.predict(x_test)\n",
        "predicted_vals = np.argmax(predictions, axis = 1)"
      ],
      "execution_count": null,
      "outputs": []
    },
    {
      "cell_type": "code",
      "metadata": {
        "id": "wX7ZvPSe9lsx",
        "colab_type": "code",
        "colab": {},
        "outputId": "111fb55a-19f8-44c0-c946-372845d35923"
      },
      "source": [
        "i=227\n",
        "img = array_test[i]\n",
        "img = np.reshape(img, (28, 28) )\n",
        "plt.title('predicted Number')\n",
        "plt.xticks([])\n",
        "plt.yticks([])\n",
        "plt.imshow(img)\n",
        "print(\"Predicted vals: \" + str(predicted_vals[i]))\n",
        "print(\"Actual vals: \" + str(label_test[i]))"
      ],
      "execution_count": null,
      "outputs": [
        {
          "output_type": "stream",
          "text": [
            "Predicted vals: 4\n",
            "Actual vals: 4\n"
          ],
          "name": "stdout"
        },
        {
          "output_type": "display_data",
          "data": {
            "image/png": "[encoded data removed]",
            "text/plain": [
              "<Figure size 432x288 with 1 Axes>"
            ]
          },
          "metadata": {
            "tags": []
          }
        }
      ]
    },
    {
      "cell_type": "code",
      "metadata": {
        "id": "_VUCiIcr9lsz",
        "colab_type": "code",
        "colab": {},
        "outputId": "77814093-f71b-4762-b8e4-6f471a98b4c7"
      },
      "source": [
        "print(\"Accuracy for Convolution Neural Network is :\",accuracy_score(label_test,predicted_vals))\n",
        "print(classification_report(label_test,predicted_vals))"
      ],
      "execution_count": null,
      "outputs": [
        {
          "output_type": "stream",
          "text": [
            "Accuracy for Convolution Neural Network is : 0.9884\n",
            "              precision    recall  f1-score   support\n",
            "\n",
            "           0       0.99      1.00      0.99       980\n",
            "           1       0.99      1.00      0.99      1135\n",
            "           2       0.99      0.99      0.99      1032\n",
            "           3       0.98      0.99      0.99      1010\n",
            "           4       0.98      1.00      0.99       982\n",
            "           5       0.99      0.99      0.99       892\n",
            "           6       0.99      0.98      0.99       958\n",
            "           7       0.99      0.99      0.99      1028\n",
            "           8       0.99      0.98      0.99       974\n",
            "           9       0.99      0.97      0.98      1009\n",
            "\n",
            "    accuracy                           0.99     10000\n",
            "   macro avg       0.99      0.99      0.99     10000\n",
            "weighted avg       0.99      0.99      0.99     10000\n",
            "\n"
          ],
          "name": "stdout"
        }
      ]
    },
    {
      "cell_type": "markdown",
      "metadata": {
        "id": "JH6tx95V9ls0",
        "colab_type": "text"
      },
      "source": [
        "## Simple Neural Network"
      ]
    },
    {
      "cell_type": "code",
      "metadata": {
        "id": "j_109eIt9ls1",
        "colab_type": "code",
        "colab": {}
      },
      "source": [
        "model = Sequential() # This initializes a sequential model to which we can keep adding layers.\n",
        "model.add(Dense(200, kernel_initializer='uniform', input_dim = 784, activation='relu')) # Add a dense layer \n",
        "model.add(Dense(10, kernel_initializer='uniform', activation='softmax')) # Add output layer\n",
        "# Setting learning and momentum\n",
        "# Adam is the optimizer which is the state of the art Gradient Descent variation. \n",
        "from keras.optimizers import Adam\n",
        "adam = Adam(lr=0.001)\n",
        "model.compile(loss='categorical_crossentropy', # CrossEntropy is the loss function. \n",
        "              optimizer=adam,                  # Mention the optimizer\n",
        "              metrics=['accuracy'])            # Mention the metric to be printed while training"
      ],
      "execution_count": null,
      "outputs": []
    },
    {
      "cell_type": "code",
      "metadata": {
        "id": "pCIez_L09ls2",
        "colab_type": "code",
        "colab": {},
        "outputId": "0fc23c58-e5ff-4555-c08e-3b50d7cf5302"
      },
      "source": [
        "nb_epochs = 10\n",
        "history = model.fit(array_train, y_train, epochs=nb_epochs, batch_size=128, validation_split=0.1) "
      ],
      "execution_count": null,
      "outputs": [
        {
          "output_type": "stream",
          "text": [
            "Train on 54000 samples, validate on 6000 samples\n",
            "Epoch 1/10\n",
            "54000/54000 [==============================] - 2s 32us/step - loss: 0.7882 - accuracy: 0.9007 - val_loss: 0.1950 - val_accuracy: 0.9465\n",
            "Epoch 2/10\n",
            "54000/54000 [==============================] - 2s 30us/step - loss: 0.1604 - accuracy: 0.9555 - val_loss: 0.1402 - val_accuracy: 0.9617\n",
            "Epoch 3/10\n",
            "54000/54000 [==============================] - 2s 29us/step - loss: 0.1091 - accuracy: 0.9682 - val_loss: 0.1425 - val_accuracy: 0.9627\n",
            "Epoch 4/10\n",
            "54000/54000 [==============================] - 2s 28us/step - loss: 0.0980 - accuracy: 0.9706 - val_loss: 0.1431 - val_accuracy: 0.9673\n",
            "Epoch 5/10\n",
            "54000/54000 [==============================] - 2s 31us/step - loss: 0.0980 - accuracy: 0.9718 - val_loss: 0.1967 - val_accuracy: 0.9582\n",
            "Epoch 6/10\n",
            "54000/54000 [==============================] - 2s 32us/step - loss: 0.0926 - accuracy: 0.9749 - val_loss: 0.1717 - val_accuracy: 0.9605\n",
            "Epoch 7/10\n",
            "54000/54000 [==============================] - 2s 30us/step - loss: 0.0985 - accuracy: 0.9750 - val_loss: 0.1917 - val_accuracy: 0.9622\n",
            "Epoch 8/10\n",
            "54000/54000 [==============================] - 2s 29us/step - loss: 0.1073 - accuracy: 0.9736 - val_loss: 0.2016 - val_accuracy: 0.9625\n",
            "Epoch 9/10\n",
            "54000/54000 [==============================] - 2s 29us/step - loss: 0.1183 - accuracy: 0.9727 - val_loss: 0.2426 - val_accuracy: 0.9590\n",
            "Epoch 10/10\n",
            "54000/54000 [==============================] - 2s 29us/step - loss: 0.1018 - accuracy: 0.9753 - val_loss: 0.2022 - val_accuracy: 0.9678\n"
          ],
          "name": "stdout"
        }
      ]
    },
    {
      "cell_type": "code",
      "metadata": {
        "id": "Ql6IH-Ng9ls4",
        "colab_type": "code",
        "colab": {}
      },
      "source": [
        "train_acc = history.history['accuracy']\n",
        "train_loss = history.history['loss']\n",
        "\n",
        "val_acc = history.history['val_accuracy']\n",
        "val_loss = history.history['val_loss']"
      ],
      "execution_count": null,
      "outputs": []
    },
    {
      "cell_type": "code",
      "metadata": {
        "id": "4euKsGat9ltO",
        "colab_type": "code",
        "colab": {},
        "outputId": "03f30263-a245-4165-947f-9b408f375bcc"
      },
      "source": [
        "from matplotlib import pyplot as plt #plt is a visualization module in matplotlib.  \n",
        "%matplotlib inline \n",
        "plt.figure(figsize=(20,5))\n",
        "plt.subplot(1,2,1)\n",
        "plt.xlabel('Epochs',fontsize=20)\n",
        "plt.ylabel('Loss',fontsize=20)\n",
        "plt.plot(train_loss)\n",
        "plt.plot(val_loss)\n",
        "\n",
        "plt.subplot(1,2,2)\n",
        "plt.xlabel('Epochs',fontsize=20)\n",
        "plt.ylabel('Accuracy',fontsize=20)\n",
        "plt.plot(train_acc)\n",
        "plt.plot(val_acc);"
      ],
      "execution_count": null,
      "outputs": [
        {
          "output_type": "display_data",
          "data": {
            "image/png": "[encoded data removed]",
            "text/plain": [
              "<Figure size 1440x360 with 2 Axes>"
            ]
          },
          "metadata": {
            "tags": [],
            "needs_background": "light"
          }
        }
      ]
    },
    {
      "cell_type": "code",
      "metadata": {
        "id": "jT32bdvY9ltQ",
        "colab_type": "code",
        "colab": {}
      },
      "source": [
        "predictions = model.predict(array_test)\n",
        "predicted_vals = np.argmax(predictions, axis = 1)"
      ],
      "execution_count": null,
      "outputs": []
    },
    {
      "cell_type": "code",
      "metadata": {
        "id": "iea6uSWh9ltS",
        "colab_type": "code",
        "colab": {},
        "outputId": "5ee31226-155d-4386-9a4d-42cf7cc01bc0"
      },
      "source": [
        "i=240\n",
        "img = array_test[i]\n",
        "img = np.reshape(img, (28, 28) )\n",
        "plt.title('predicted Number')\n",
        "plt.xticks([])\n",
        "plt.yticks([])\n",
        "plt.imshow(img)\n",
        "print(\"Predicted vals: \" + str(predicted_vals[i]))\n",
        "print(\"Actual vals: \" + str(label_test[i]))"
      ],
      "execution_count": null,
      "outputs": [
        {
          "output_type": "stream",
          "text": [
            "Predicted vals: 5\n",
            "Actual vals: 5\n"
          ],
          "name": "stdout"
        },
        {
          "output_type": "display_data",
          "data": {
            "image/png": "[encoded data removed]",
            "text/plain": [
              "<Figure size 432x288 with 1 Axes>"
            ]
          },
          "metadata": {
            "tags": []
          }
        }
      ]
    },
    {
      "cell_type": "code",
      "metadata": {
        "id": "bgsr-z4F9ltV",
        "colab_type": "code",
        "colab": {},
        "outputId": "55de8f12-944a-40d3-e6f3-42a002ca7482"
      },
      "source": [
        "print(\"Accuracy for simple Neural Network is :\",accuracy_score(label_test,predicted_vals))\n",
        "print(\"Classification Report :\",classification_report(label_test,predicted_vals))"
      ],
      "execution_count": null,
      "outputs": [
        {
          "output_type": "stream",
          "text": [
            "Accuracy for simple Neural Network is : 0.9644\n",
            "Classification Report :               precision    recall  f1-score   support\n",
            "\n",
            "           0       0.97      0.99      0.98       980\n",
            "           1       1.00      0.98      0.99      1135\n",
            "           2       0.95      0.96      0.96      1032\n",
            "           3       0.95      0.97      0.96      1010\n",
            "           4       0.96      0.97      0.96       982\n",
            "           5       0.94      0.96      0.95       892\n",
            "           6       0.99      0.96      0.97       958\n",
            "           7       0.98      0.96      0.97      1028\n",
            "           8       0.95      0.95      0.95       974\n",
            "           9       0.96      0.94      0.95      1009\n",
            "\n",
            "    accuracy                           0.96     10000\n",
            "   macro avg       0.96      0.96      0.96     10000\n",
            "weighted avg       0.96      0.96      0.96     10000\n",
            "\n"
          ],
          "name": "stdout"
        }
      ]
    },
    {
      "cell_type": "markdown",
      "metadata": {
        "id": "xcbw_XAx9ltW",
        "colab_type": "text"
      },
      "source": [
        "## Conclusion :"
      ]
    },
    {
      "cell_type": "markdown",
      "metadata": {
        "id": "--JSu7cL9ltX",
        "colab_type": "text"
      },
      "source": [
        "From the above analysis of MNIST dataset with XGboost, CNN and Multi-layer Neural Network all the performing well with accuracies 97 %, 99 % and 96.44%.\n",
        "Clearly shows that CNN performs better compared to Simple Neural network and XGboost. Where as XGboost performs slightly better compared to Simple MLP network."
      ]
    }
  ]
}